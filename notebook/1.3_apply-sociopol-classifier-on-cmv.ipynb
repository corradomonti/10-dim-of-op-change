{
 "cells": [
  {
   "cell_type": "code",
   "execution_count": 1,
   "metadata": {},
   "outputs": [],
   "source": [
    "import matplotlib\n",
    "import matplotlib.pyplot as plt\n",
    "import numpy as np\n",
    "import pandas as pd\n",
    "from tqdm.notebook import tqdm\n",
    "\n",
    "from sklearn.linear_model import LogisticRegression\n",
    "import sklearn.metrics\n",
    "\n",
    "from collections import Counter\n",
    "import csv\n",
    "import datetime\n",
    "from glob import glob\n",
    "import io\n",
    "import json\n",
    "import pickle\n",
    "import operator\n",
    "\n",
    "from pathlib import Path\n",
    "\n",
    "import matplotlib.pyplot as plt"
   ]
  },
  {
   "cell_type": "code",
   "execution_count": 2,
   "metadata": {},
   "outputs": [],
   "source": [
    "from pyspark import SparkContext, SparkConf, SQLContext"
   ]
  },
  {
   "cell_type": "code",
   "execution_count": 3,
   "metadata": {},
   "outputs": [
    {
     "name": "stderr",
     "output_type": "stream",
     "text": [
      "/Users/corrado/.conda/envs/10-dim-of-op-change/lib/python3.8/site-packages/gensim/similarities/__init__.py:15: UserWarning: The gensim.similarities.levenshtein submodule is disabled, because the optional Levenshtein package <https://pypi.org/project/python-Levenshtein/> is unavailable. Install Levenhstein (e.g. `pip install python-Levenshtein`) to suppress this warning.\n",
      "  warnings.warn(msg)\n",
      "/Users/corrado/.conda/envs/10-dim-of-op-change/lib/python3.8/site-packages/sklearn/base.py:310: UserWarning: Trying to unpickle estimator LogisticRegression from version 0.22.1 when using version 0.24.2. This might lead to breaking code or invalid results. Use at your own risk.\n",
      "  warnings.warn(\n"
     ]
    }
   ],
   "source": [
    "import gensim.utils\n",
    "from nltk.corpus import stopwords\n",
    "from sklearn.feature_extraction.text import TfidfVectorizer\n",
    "import spacy\n",
    "from spacy.lemmatizer import Lemmatizer\n",
    "from spacy.lookups import Lookups\n",
    "\n",
    "nlp = spacy.load('en')\n",
    "lookups = Lookups()\n",
    "for table in nlp.vocab.lookups.tables:\n",
    "    lookups.add_table(table, nlp.vocab.lookups.get_table(table))\n",
    "lemmatizer = Lemmatizer(lookups)\n",
    "\n",
    "stop_words = stopwords.words('english')\n",
    "\n",
    "def process(t):\n",
    "    t = gensim.utils.simple_preprocess(t)\n",
    "    t = [lemmatizer.lookup(w) for w in t if w not in stop_words]\n",
    "    return t\n",
    "\n",
    "vectorizer = TfidfVectorizer(min_df=4,\n",
    "                             tokenizer=lambda x: x, \n",
    "                             preprocessor=lambda x: x,\n",
    "                            ngram_range=(1, 3),\n",
    "                            max_features=10000,\n",
    "                            max_df=0.75,\n",
    "                            )\n",
    "\n",
    "with open('../data/vocabulary-classifier.pickle', 'rb') as f:\n",
    "    vectorizer.vocabulary_, vectorizer.idf_, clf = pickle.load(f)\n"
   ]
  },
  {
   "cell_type": "code",
   "execution_count": 4,
   "metadata": {},
   "outputs": [],
   "source": [
    "def classify_proba(txt):\n",
    "    tfidf = vectorizer.transform([process(txt)])\n",
    "    return clf.predict_proba(tfidf)[0, 1]\n",
    "\n",
    "def classify(txt):\n",
    "    tfidf = vectorizer.transform([process(txt)])\n",
    "    return clf.predict(tfidf)[0] > 0"
   ]
  },
  {
   "cell_type": "code",
   "execution_count": 5,
   "metadata": {},
   "outputs": [
    {
     "data": {
      "text/plain": [
       "0.9999999685187481"
      ]
     },
     "execution_count": 5,
     "metadata": {},
     "output_type": "execute_result"
    }
   ],
   "source": [
    "classify_proba(\"hello i am interested in bernie, what is democratic socialism\")"
   ]
  },
  {
   "cell_type": "code",
   "execution_count": 6,
   "metadata": {},
   "outputs": [
    {
     "data": {
      "text/plain": [
       "0.07689345040629107"
      ]
     },
     "execution_count": 6,
     "metadata": {},
     "output_type": "execute_result"
    }
   ],
   "source": [
    "classify_proba(\"hello i am a fan of videogames, did Tony Hawk make a videogame?\")"
   ]
  },
  {
   "cell_type": "code",
   "execution_count": 7,
   "metadata": {},
   "outputs": [],
   "source": [
    "\n",
    "sc = SparkContext()"
   ]
  },
  {
   "cell_type": "code",
   "execution_count": 8,
   "metadata": {},
   "outputs": [],
   "source": [
    "def resilient_json(s):\n",
    "    try:\n",
    "        return json.loads(s)\n",
    "    except: # pylint: disable=W0702\n",
    "        return {}"
   ]
  },
  {
   "cell_type": "raw",
   "metadata": {},
   "source": [
    "! rm -rf ../data/changemyview-sociopol"
   ]
  },
  {
   "cell_type": "code",
   "execution_count": 10,
   "metadata": {},
   "outputs": [],
   "source": [
    "post2label_rdd = (\n",
    "    sc.textFile(\"/data/big/reddit/submissions/*/*.bz2\")\n",
    "    .map(resilient_json)\n",
    "    .filter(lambda p: p.get('subreddit', '').lower() == 'changemyview')\n",
    "    .filter(lambda p: len(p.get('selftext', '').strip()) > 10) # [removed] and [deleted] are 9 characters\n",
    "    .map(lambda p: (p, classify(p.get('selftext'))))\n",
    ")\n",
    "post2label_rdd.persist()\n",
    "\n",
    "(post2label_rdd\n",
    "     .filter(operator.itemgetter(1))\n",
    "     .map(operator.itemgetter(0))\n",
    "     .map(json.dumps)\n",
    "     .saveAsTextFile('../data/changemyview-sociopol',\n",
    "                    compressionCodecClass=\"org.apache.hadoop.io.compress.GzipCodec\")\n",
    ")"
   ]
  },
  {
   "cell_type": "code",
   "execution_count": 12,
   "metadata": {},
   "outputs": [],
   "source": [
    "! zcat ../data/changemyview-sociopol/part-*.gz | \\\n",
    "    gzip --stdout > ../data/changemyview-sociopol.gz"
   ]
  },
  {
   "cell_type": "code",
   "execution_count": 13,
   "metadata": {},
   "outputs": [],
   "source": [
    "! rm -rf ../data/changemyview-sociopol"
   ]
  },
  {
   "cell_type": "code",
   "execution_count": 14,
   "metadata": {},
   "outputs": [],
   "source": [
    "def to_yearmonth(x):\n",
    "    ts = int(x[0].get('created_utc', 0))\n",
    "    dt = datetime.datetime.fromtimestamp(ts)\n",
    "    return ((dt.year, dt.month, \"pos\" if x[1] else \"neg\"), 1)"
   ]
  },
  {
   "cell_type": "code",
   "execution_count": 15,
   "metadata": {},
   "outputs": [],
   "source": [
    "timepos2count = (\n",
    "    post2label_rdd\n",
    "    .map(to_yearmonth)\n",
    "    .reduceByKey(lambda a, b: a + b)\n",
    "    .collect()\n",
    ")"
   ]
  },
  {
   "cell_type": "code",
   "execution_count": 16,
   "metadata": {},
   "outputs": [],
   "source": [
    "timepos2count = dict(timepos2count)"
   ]
  },
  {
   "cell_type": "code",
   "execution_count": 17,
   "metadata": {},
   "outputs": [],
   "source": [
    "t2pos, t2neg = (np.array([timepos2count.get((y, m, label), 0) \n",
    " for y in range(2011, 2020) for m in range(1, 13)]) for label in ('pos', 'neg'))"
   ]
  },
  {
   "cell_type": "code",
   "execution_count": 18,
   "metadata": {},
   "outputs": [
    {
     "name": "stdout",
     "output_type": "stream",
     "text": [
      "46043 total sociopolitical posts on r/ChangeMyView\n"
     ]
    }
   ],
   "source": [
    "print(np.sum(t2pos), \"total sociopolitical posts on r/ChangeMyView\")"
   ]
  },
  {
   "cell_type": "code",
   "execution_count": 19,
   "metadata": {},
   "outputs": [
    {
     "name": "stdout",
     "output_type": "stream",
     "text": [
      "19684 total NON-sociopolitical posts on r/ChangeMyView\n"
     ]
    }
   ],
   "source": [
    "print(np.sum(t2neg), \"total NON-sociopolitical posts on r/ChangeMyView\")"
   ]
  },
  {
   "cell_type": "code",
   "execution_count": 22,
   "metadata": {},
   "outputs": [
    {
     "data": {
      "image/png": "[encoded data removed]",
      "text/plain": [
       "<Figure size 720x432 with 1 Axes>"
      ]
     },
     "metadata": {
      "needs_background": "light"
     },
     "output_type": "display_data"
    }
   ],
   "source": [
    "plt.rcParams.update({'font.size': 10, \n",
    "                     'axes.labelcolor': 'k',\n",
    "                     'xtick.color': 'k',\n",
    "                     'ytick.color': 'k'\n",
    "                    })\n",
    "plt.figure(figsize=(10, 6))\n",
    "plt.plot(t2pos, label=\"Socio-political\")\n",
    "plt.plot(t2neg, label=\"Others\")\n",
    "plt.grid()\n",
    "plt.xticks(np.arange(0, len(t2pos) + 1, 12), \n",
    "           [f\"{y}\" for y in range(2011, 2021)])\n",
    "plt.ylabel(\"Number of posts\")\n",
    "plt.xlabel(\"Year\")\n",
    "plt.legend(title=\"Topic\")\n",
    "plt.savefig(\"../paper/fig/sociopol-cmv-over-time.pdf\")"
   ]
  },
  {
   "cell_type": "code",
   "execution_count": 23,
   "metadata": {},
   "outputs": [
    {
     "name": "stderr",
     "output_type": "stream",
     "text": [
      "/home/corradom/miniconda3/envs/jupyter/lib/python3.7/site-packages/ipykernel_launcher.py:2: RuntimeWarning: invalid value encountered in true_divide\n",
      "  \n"
     ]
    },
    {
     "data": {
      "image/png": "[encoded data removed]",
      "text/plain": [
       "<Figure size 720x432 with 1 Axes>"
      ]
     },
     "metadata": {
      "needs_background": "light"
     },
     "output_type": "display_data"
    }
   ],
   "source": [
    "plt.figure(figsize=(10, 6))\n",
    "plt.plot(t2pos / (t2pos + t2neg))\n",
    "plt.ylim((0, 1))\n",
    "plt.grid()\n",
    "plt.xticks(np.arange(0,len(t2pos) + 1, 12), \n",
    "           [f\"{y}\" for y in range(2011, 2021)])\n",
    "plt.ylabel(\"Fraction of socio-political posts\")\n",
    "plt.xlabel(\"Year\")\n",
    "plt.savefig(\"../paper/fig/sociopol-cmv-ratio-over-time.pdf\")"
   ]
  },
  {
   "cell_type": "code",
   "execution_count": 25,
   "metadata": {},
   "outputs": [
    {
     "data": {
      "text/plain": [
       "PythonRDD[2] at RDD at PythonRDD.scala:49"
      ]
     },
     "execution_count": 25,
     "metadata": {},
     "output_type": "execute_result"
    }
   ],
   "source": [
    "\n",
    "post2label_rdd.unpersist()"
   ]
  }
 ],
 "metadata": {
  "kernelspec": {
   "display_name": "10-dim-of-op-change",
   "language": "python",
   "name": "10-dim-of-op-change"
  },
  "language_info": {
   "codemirror_mode": {
    "name": "ipython",
    "version": 3
   },
   "file_extension": ".py",
   "mimetype": "text/x-python",
   "name": "python",
   "nbconvert_exporter": "python",
   "pygments_lexer": "ipython3",
   "version": "3.8.12"
  }
 },
 "nbformat": 4,
 "nbformat_minor": 4
}
