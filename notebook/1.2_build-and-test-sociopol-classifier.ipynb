{
 "cells": [
  {
   "cell_type": "code",
   "execution_count": 1,
   "metadata": {},
   "outputs": [],
   "source": [
    "import matplotlib\n",
    "import matplotlib.pyplot as plt\n",
    "import numpy as np\n",
    "import pandas as pd\n",
    "from tqdm.notebook import tqdm\n",
    "\n",
    "from sklearn.linear_model import LogisticRegression\n",
    "import sklearn.metrics\n",
    "\n",
    "from collections import Counter\n",
    "import csv\n",
    "from glob import glob\n",
    "import io\n",
    "import json\n",
    "import pickle\n",
    "import operator\n",
    "\n",
    "import matplotlib.pyplot as plt\n",
    "plt.rcParams.update({'font.size': 13, \n",
    "                     'axes.labelcolor': 'limegreen',\n",
    "                     'xtick.color': 'limegreen',\n",
    "                     'ytick.color': 'limegreen'\n",
    "                    })"
   ]
  },
  {
   "cell_type": "markdown",
   "metadata": {},
   "source": [
    "# Build training set"
   ]
  },
  {
   "cell_type": "code",
   "execution_count": 2,
   "metadata": {},
   "outputs": [],
   "source": [
    "def basepaths(year_from=2011, year_to=2020, path=\"../data/sociopol/train\"):\n",
    "    for y in range(year_from, year_to):\n",
    "        for m in range(1, 13):\n",
    "            yield y, m, \"%s/%d-%02d\" % (path, y, m)"
   ]
  },
  {
   "cell_type": "code",
   "execution_count": 3,
   "metadata": {},
   "outputs": [],
   "source": [
    "def parse_dataset(*a, **kw):\n",
    "    path2pos = {}\n",
    "    path2neg = {}\n",
    "    for y, m, path in tqdm(list(basepaths(*a, **kw))):\n",
    "        pos = []\n",
    "        with open(f\"{path}-positive.txt\") as f:\n",
    "            for line in f:\n",
    "                sub, text = line.strip().split(\"\\t\", 1)\n",
    "                pos.append(text)\n",
    "        path2pos[(y, m)] = pos\n",
    "\n",
    "        neg = []\n",
    "        with open(f\"{path}-negative.txt\") as f:\n",
    "            for line in f:\n",
    "                neg.append(line.strip())\n",
    "                if len(neg) >= len(pos):\n",
    "                    break\n",
    "        path2neg[(y, m)] = neg\n",
    "\n",
    "    pos = [l for p in path2pos.values() for l in p]\n",
    "    neg = [l for p in path2neg.values() for l in p]\n",
    "    return path2pos, path2neg, pos, neg"
   ]
  },
  {
   "cell_type": "code",
   "execution_count": 4,
   "metadata": {
    "scrolled": true
   },
   "outputs": [
    {
     "data": {
      "application/vnd.jupyter.widget-view+json": {
       "model_id": "6b797c3da2e04c4bb1bf4798ec453749",
       "version_major": 2,
       "version_minor": 0
      },
      "text/plain": [
       "HBox(children=(FloatProgress(value=0.0, max=108.0), HTML(value='')))"
      ]
     },
     "metadata": {},
     "output_type": "display_data"
    },
    {
     "name": "stdout",
     "output_type": "stream",
     "text": [
      "\n"
     ]
    }
   ],
   "source": [
    "_, _, pos, neg = parse_dataset(path=\"../data/sociopol/train\")"
   ]
  },
  {
   "cell_type": "code",
   "execution_count": 11,
   "metadata": {},
   "outputs": [
    {
     "data": {
      "text/plain": [
       "(104292, 104292)"
      ]
     },
     "execution_count": 11,
     "metadata": {},
     "output_type": "execute_result"
    }
   ],
   "source": [
    "len(pos), len(neg)"
   ]
  },
  {
   "cell_type": "code",
   "execution_count": 6,
   "metadata": {},
   "outputs": [],
   "source": [
    "training_set = [(l, 1) for l in pos] + [(l, 0) for l in neg]\n",
    "np.random.shuffle(training_set)"
   ]
  },
  {
   "cell_type": "markdown",
   "metadata": {},
   "source": [
    "# Build feature matrix"
   ]
  },
  {
   "cell_type": "code",
   "execution_count": 7,
   "metadata": {},
   "outputs": [],
   "source": [
    "from nltk.stem import WordNetLemmatizer \n",
    "from nltk.stem.porter import PorterStemmer\n",
    "import gensim.utils\n",
    "from nltk.corpus import stopwords\n",
    "from sklearn.feature_extraction.text import TfidfVectorizer\n",
    "\n",
    "lemmatizer = WordNetLemmatizer()\n",
    "stemmer = PorterStemmer()\n",
    "stop_words = stopwords.words('english')"
   ]
  },
  {
   "cell_type": "code",
   "execution_count": 8,
   "metadata": {},
   "outputs": [],
   "source": [
    "import spacy\n",
    "\n",
    "nlp = spacy.load('en')\n",
    "\n",
    "from spacy.lemmatizer import Lemmatizer\n",
    "from spacy.lookups import Lookups\n",
    "\n",
    "lookups = Lookups()\n",
    "for table in nlp.vocab.lookups.tables:\n",
    "    lookups.add_table(table, nlp.vocab.lookups.get_table(table))\n",
    "    \n",
    "lemmatizer = Lemmatizer(lookups)"
   ]
  },
  {
   "cell_type": "code",
   "execution_count": 9,
   "metadata": {},
   "outputs": [
    {
     "data": {
      "text/plain": [
       "['hello', 'name', 'michael', 'love', 'videogame']"
      ]
     },
     "execution_count": 9,
     "metadata": {},
     "output_type": "execute_result"
    }
   ],
   "source": [
    "def process(t):\n",
    "    t = gensim.utils.simple_preprocess(t)\n",
    "    t = [lemmatizer.lookup(w) for w in t if w not in stop_words]\n",
    "    return t\n",
    "\n",
    "process(\"Hello my name is michael and i love videogames\")"
   ]
  },
  {
   "cell_type": "code",
   "execution_count": 12,
   "metadata": {},
   "outputs": [
    {
     "data": {
      "application/vnd.jupyter.widget-view+json": {
       "model_id": "78c566fb45dc4984a1f54bcdbeabf66d",
       "version_major": 2,
       "version_minor": 0
      },
      "text/plain": [
       "HBox(children=(FloatProgress(value=0.0, max=208584.0), HTML(value='')))"
      ]
     },
     "metadata": {},
     "output_type": "display_data"
    },
    {
     "name": "stdout",
     "output_type": "stream",
     "text": [
      "\n"
     ]
    }
   ],
   "source": [
    "vectorizer = TfidfVectorizer(min_df=4,\n",
    "                             tokenizer=lambda x: x, \n",
    "                             preprocessor=lambda x: x,\n",
    "                             ngram_range=(1, 3),\n",
    "                             max_features=10000,\n",
    "                             max_df=0.75,\n",
    "                            )\n",
    "X = vectorizer.fit_transform(process(t) for t, y in tqdm(training_set))"
   ]
  },
  {
   "cell_type": "code",
   "execution_count": 13,
   "metadata": {},
   "outputs": [
    {
     "data": {
      "text/plain": [
       "array(['distance', 'put', 'usd', 'inevitable', 'little girl', 'story',\n",
       "       'motherboard asrock', 'can good', 'dawn', 'les', 'simply',\n",
       "       'legislative', 'say thing like', 'education', 'origin',\n",
       "       'https doc google', 'actually', 'anyone ever', 'clothe', 'tense',\n",
       "       'titan', 'replay', 'stumble', 'password', 'conscience',\n",
       "       'http steamcommunity', 'gpu', 'com search',\n",
       "       'specific feature item', 'ak', 'http imgur', 'small business',\n",
       "       'feel like', 'thing feel', 'bash', 'obsession', 'stumble',\n",
       "       'motorcycle', 'forward', 'people use', 'every year',\n",
       "       'wikipedia org', 'temporary', 'driveway', 'useful',\n",
       "       'include specific', 'instinct', 'meeting', 'system', 'favor',\n",
       "       'franchise', 'concentration', 'many different', 'optimistic',\n",
       "       'can take', 'like would', 'employ', 'promotion', 'know know',\n",
       "       'two three', 'make comment', 'partner amp', 'vent', 'well option',\n",
       "       'socrates', 'make change', 'doubt', 'evaluation', 'technology',\n",
       "       'whatsoever', 'gt overclocking yes', 'new http', 'offensive',\n",
       "       'time work', 'much', 'specific game', 'would greatly appreciate',\n",
       "       'gx', 'take', 'roger', 'reconcile', 'want kid', 'pathetic',\n",
       "       'someone want', 'apologize', 'get stick', 'take little', 'dharma',\n",
       "       'npc', 'little know', 'sway', 'margin', 'really get', 'call back',\n",
       "       'one may', 'work hard', 'neck', 'shit test', 'take good',\n",
       "       'immature'], dtype='<U31')"
      ]
     },
     "execution_count": 13,
     "metadata": {},
     "output_type": "execute_result"
    }
   ],
   "source": [
    "np.random.choice(vectorizer.get_feature_names(), 100)"
   ]
  },
  {
   "cell_type": "code",
   "execution_count": 14,
   "metadata": {},
   "outputs": [
    {
     "data": {
      "text/plain": [
       "<208584x10000 sparse matrix of type '<class 'numpy.float64'>'\n",
       "\twith 25766622 stored elements in Compressed Sparse Row format>"
      ]
     },
     "execution_count": 14,
     "metadata": {},
     "output_type": "execute_result"
    }
   ],
   "source": [
    "X"
   ]
  },
  {
   "cell_type": "code",
   "execution_count": 15,
   "metadata": {},
   "outputs": [],
   "source": [
    "Y = np.array([y for t, y in training_set])"
   ]
  },
  {
   "cell_type": "markdown",
   "metadata": {},
   "source": [
    "# Train classifier\n",
    "Takes 5 to 10 minutes"
   ]
  },
  {
   "cell_type": "code",
   "execution_count": 16,
   "metadata": {},
   "outputs": [
    {
     "name": "stderr",
     "output_type": "stream",
     "text": [
      "[Parallel(n_jobs=1)]: Using backend SequentialBackend with 1 concurrent workers.\n"
     ]
    },
    {
     "name": "stdout",
     "output_type": "stream",
     "text": [
      "max_iter reached after 534 seconds\n"
     ]
    },
    {
     "name": "stderr",
     "output_type": "stream",
     "text": [
      "/home/corradom/miniconda3/envs/jupyter/lib/python3.7/site-packages/sklearn/linear_model/_sag.py:330: ConvergenceWarning: The max_iter was reached which means the coef_ did not converge\n",
      "  \"the coef_ did not converge\", ConvergenceWarning)\n",
      "[Parallel(n_jobs=1)]: Done   1 out of   1 | elapsed:  8.9min finished\n"
     ]
    },
    {
     "data": {
      "text/plain": [
       "LogisticRegression(C=1.0, class_weight='balanced', dual=False,\n",
       "                   fit_intercept=True, intercept_scaling=1, l1_ratio=None,\n",
       "                   max_iter=100, multi_class='auto', n_jobs=None, penalty='l1',\n",
       "                   random_state=0, solver='saga', tol=0.0001, verbose=1,\n",
       "                   warm_start=False)"
      ]
     },
     "execution_count": 16,
     "metadata": {},
     "output_type": "execute_result"
    }
   ],
   "source": [
    "clf = LogisticRegression(random_state=0,\n",
    "                         solver='saga', # saga or liblinear\n",
    "                         class_weight='balanced',\n",
    "                        penalty='l1',\n",
    "                        verbose=1)\n",
    "clf.fit(X, Y)"
   ]
  },
  {
   "cell_type": "markdown",
   "metadata": {},
   "source": [
    "## Evaluate classifier in-sample performance"
   ]
  },
  {
   "cell_type": "code",
   "execution_count": 17,
   "metadata": {},
   "outputs": [],
   "source": [
    "Y_pred = clf.predict(X)"
   ]
  },
  {
   "cell_type": "code",
   "execution_count": 18,
   "metadata": {},
   "outputs": [
    {
     "data": {
      "text/plain": [
       "0.9090102788325087"
      ]
     },
     "execution_count": 18,
     "metadata": {},
     "output_type": "execute_result"
    }
   ],
   "source": [
    "np.mean(Y_pred == Y)"
   ]
  },
  {
   "cell_type": "code",
   "execution_count": 19,
   "metadata": {},
   "outputs": [
    {
     "name": "stdout",
     "output_type": "stream",
     "text": [
      "              precision    recall  f1-score   support\n",
      "\n",
      "           0       0.89      0.93      0.91    104292\n",
      "           1       0.93      0.89      0.91    104292\n",
      "\n",
      "    accuracy                           0.91    208584\n",
      "   macro avg       0.91      0.91      0.91    208584\n",
      "weighted avg       0.91      0.91      0.91    208584\n",
      "\n"
     ]
    }
   ],
   "source": [
    "print(sklearn.metrics.classification_report(Y, Y_pred))"
   ]
  },
  {
   "cell_type": "markdown",
   "metadata": {},
   "source": [
    "# Evaluate classifier on test set"
   ]
  },
  {
   "cell_type": "code",
   "execution_count": 26,
   "metadata": {},
   "outputs": [
    {
     "data": {
      "application/vnd.jupyter.widget-view+json": {
       "model_id": "657c6da51e9d417f93513038f9b821f2",
       "version_major": 2,
       "version_minor": 0
      },
      "text/plain": [
       "HBox(children=(FloatProgress(value=0.0, max=108.0), HTML(value='')))"
      ]
     },
     "metadata": {},
     "output_type": "display_data"
    },
    {
     "name": "stdout",
     "output_type": "stream",
     "text": [
      "\n"
     ]
    }
   ],
   "source": [
    "testpos, testneg, _, _ = parse_dataset(path=\"../data/sociopol/test\")"
   ]
  },
  {
   "cell_type": "code",
   "execution_count": 27,
   "metadata": {},
   "outputs": [
    {
     "data": {
      "application/vnd.jupyter.widget-view+json": {
       "model_id": "735e8d63f3bc4c379f940ff3f058b6b6",
       "version_major": 2,
       "version_minor": 0
      },
      "text/plain": [
       "HBox(children=(FloatProgress(value=0.0, max=108.0), HTML(value='')))"
      ]
     },
     "metadata": {},
     "output_type": "display_data"
    },
    {
     "name": "stdout",
     "output_type": "stream",
     "text": [
      "\n"
     ]
    }
   ],
   "source": [
    "keys = sorted(list(testpos.keys()))\n",
    "\n",
    "ym2testset = dict()\n",
    "\n",
    "for key in tqdm(keys):\n",
    "    test_text = testpos[key] + testneg[key]\n",
    "    Y_test = np.array([1] * len(testpos[key]) + [0] * len(testneg[key]))\n",
    "    X_test = vectorizer.transform(process(t) for t in test_text)\n",
    "    ym2testset[key] = (X_test, Y_test)"
   ]
  },
  {
   "cell_type": "code",
   "execution_count": 28,
   "metadata": {},
   "outputs": [
    {
     "data": {
      "application/vnd.jupyter.widget-view+json": {
       "model_id": "fb07c807128f4bcda7f1fc1891ca256e",
       "version_major": 2,
       "version_minor": 0
      },
      "text/plain": [
       "HBox(children=(FloatProgress(value=0.0, max=108.0), HTML(value='')))"
      ]
     },
     "metadata": {},
     "output_type": "display_data"
    },
    {
     "name": "stdout",
     "output_type": "stream",
     "text": [
      "\n"
     ]
    }
   ],
   "source": [
    "scores = []\n",
    "for ym in tqdm(keys):\n",
    "    X_test, Y_test = ym2testset[ym]\n",
    "    scores.append(sklearn.metrics.accuracy_score(\n",
    "            Y_test, clf.predict(X_test)\n",
    "        ))"
   ]
  },
  {
   "cell_type": "code",
   "execution_count": 30,
   "metadata": {},
   "outputs": [
    {
     "data": {
      "image/png": "[encoded data removed]",
      "text/plain": [
       "<Figure size 720x432 with 1 Axes>"
      ]
     },
     "metadata": {
      "needs_background": "light"
     },
     "output_type": "display_data"
    }
   ],
   "source": [
    "plt.rcParams.update({'font.size': 10, \n",
    "                     'axes.labelcolor': 'k',\n",
    "                     'xtick.color': 'k',\n",
    "                     'ytick.color': 'k'\n",
    "                    })\n",
    "plt.figure(figsize=(10, 6))\n",
    "plt.plot([f\"{y}-{m}\" for y, m in keys], scores)\n",
    "plt.grid()\n",
    "plt.xticks([f\"{y}-{m}\" for y, m in keys[::12]])\n",
    "plt.ylabel(\"Accuracy\")\n",
    "plt.xlabel(\"Time\")\n",
    "plt.savefig(\"../paper/fig/sociopol-test.pdf\")"
   ]
  },
  {
   "cell_type": "code",
   "execution_count": 31,
   "metadata": {},
   "outputs": [
    {
     "name": "stdout",
     "output_type": "stream",
     "text": [
      "2011 \n",
      "               precision    recall  f1-score   support\n",
      "\n",
      "           0       0.87      0.87      0.87      6955\n",
      "           1       0.87      0.87      0.87      6955\n",
      "\n",
      "    accuracy                           0.87     13910\n",
      "   macro avg       0.87      0.87      0.87     13910\n",
      "weighted avg       0.87      0.87      0.87     13910\n",
      "\n",
      "\n",
      "\n",
      "\n",
      "2012 \n",
      "               precision    recall  f1-score   support\n",
      "\n",
      "           0       0.89      0.90      0.89     10142\n",
      "           1       0.90      0.88      0.89     10142\n",
      "\n",
      "    accuracy                           0.89     20284\n",
      "   macro avg       0.89      0.89      0.89     20284\n",
      "weighted avg       0.89      0.89      0.89     20284\n",
      "\n",
      "\n",
      "\n",
      "\n",
      "2013 \n",
      "               precision    recall  f1-score   support\n",
      "\n",
      "           0       0.88      0.92      0.90     11381\n",
      "           1       0.92      0.87      0.89     11381\n",
      "\n",
      "    accuracy                           0.90     22762\n",
      "   macro avg       0.90      0.90      0.90     22762\n",
      "weighted avg       0.90      0.90      0.90     22762\n",
      "\n",
      "\n",
      "\n",
      "\n",
      "2014 \n",
      "               precision    recall  f1-score   support\n",
      "\n",
      "           0       0.86      0.93      0.89     11685\n",
      "           1       0.92      0.85      0.89     11685\n",
      "\n",
      "    accuracy                           0.89     23370\n",
      "   macro avg       0.89      0.89      0.89     23370\n",
      "weighted avg       0.89      0.89      0.89     23370\n",
      "\n",
      "\n",
      "\n",
      "\n",
      "2015 \n",
      "               precision    recall  f1-score   support\n",
      "\n",
      "           0       0.88      0.93      0.91     11980\n",
      "           1       0.93      0.88      0.90     11980\n",
      "\n",
      "    accuracy                           0.90     23960\n",
      "   macro avg       0.91      0.90      0.90     23960\n",
      "weighted avg       0.91      0.90      0.90     23960\n",
      "\n",
      "\n",
      "\n",
      "\n",
      "2016 \n",
      "               precision    recall  f1-score   support\n",
      "\n",
      "           0       0.91      0.94      0.92     12506\n",
      "           1       0.94      0.90      0.92     12506\n",
      "\n",
      "    accuracy                           0.92     25012\n",
      "   macro avg       0.92      0.92      0.92     25012\n",
      "weighted avg       0.92      0.92      0.92     25012\n",
      "\n",
      "\n",
      "\n",
      "\n",
      "2017 \n",
      "               precision    recall  f1-score   support\n",
      "\n",
      "           0       0.89      0.93      0.91     12872\n",
      "           1       0.92      0.89      0.91     12872\n",
      "\n",
      "    accuracy                           0.91     25744\n",
      "   macro avg       0.91      0.91      0.91     25744\n",
      "weighted avg       0.91      0.91      0.91     25744\n",
      "\n",
      "\n",
      "\n",
      "\n",
      "2018 \n",
      "               precision    recall  f1-score   support\n",
      "\n",
      "           0       0.89      0.91      0.90     13474\n",
      "           1       0.91      0.88      0.90     13474\n",
      "\n",
      "    accuracy                           0.90     26948\n",
      "   macro avg       0.90      0.90      0.90     26948\n",
      "weighted avg       0.90      0.90      0.90     26948\n",
      "\n",
      "\n",
      "\n",
      "\n",
      "2019 \n",
      "               precision    recall  f1-score   support\n",
      "\n",
      "           0       0.88      0.91      0.89     14602\n",
      "           1       0.91      0.87      0.89     14602\n",
      "\n",
      "    accuracy                           0.89     29204\n",
      "   macro avg       0.89      0.89      0.89     29204\n",
      "weighted avg       0.89      0.89      0.89     29204\n",
      "\n",
      "\n",
      "\n",
      "\n"
     ]
    }
   ],
   "source": [
    "for y in range(2011, 2020):\n",
    "    scores = []\n",
    "    Y_test = []\n",
    "    Y_pred = []\n",
    "    for m in range(1, 13):\n",
    "        X_test_ym, Y_test_ym = ym2testset[(y, m)]\n",
    "        Y_test.append(Y_test_ym)\n",
    "        Y_pred.append(clf.predict(X_test_ym))\n",
    "        \n",
    "    print(y, '\\n', sklearn.metrics.classification_report(np.hstack(Y_test), np.hstack(Y_pred)))\n",
    "    print('\\n\\n')"
   ]
  },
  {
   "cell_type": "markdown",
   "metadata": {},
   "source": [
    "# Evaluate classifier on CMV validation posts"
   ]
  },
  {
   "cell_type": "code",
   "execution_count": 20,
   "metadata": {},
   "outputs": [],
   "source": [
    "cmv_posts_labels = pd.read_csv(\"../data/cmv-posts-labels.tsv\", sep='\\t')"
   ]
  },
  {
   "cell_type": "code",
   "execution_count": 38,
   "metadata": {},
   "outputs": [
    {
     "data": {
      "text/plain": [
       "Index(['URL', 'text', 'Title', 'Sociopolitical'], dtype='object')"
      ]
     },
     "execution_count": 38,
     "metadata": {},
     "output_type": "execute_result"
    }
   ],
   "source": [
    "cmv_posts_labels.columns"
   ]
  },
  {
   "cell_type": "code",
   "execution_count": 22,
   "metadata": {},
   "outputs": [],
   "source": [
    "cmv_posts_labels[\"Sociopolitical\"] = ~cmv_posts_labels[\"Sociopolitical\"].isna()"
   ]
  },
  {
   "cell_type": "code",
   "execution_count": 21,
   "metadata": {},
   "outputs": [],
   "source": [
    "def classify(txt):\n",
    "    tfidf = vectorizer.transform([process(txt)])\n",
    "    return clf.predict(tfidf)[0] > 0"
   ]
  },
  {
   "cell_type": "markdown",
   "metadata": {},
   "source": [
    "#### Results considering title and, if available, text"
   ]
  },
  {
   "cell_type": "code",
   "execution_count": 56,
   "metadata": {},
   "outputs": [],
   "source": [
    "cmv_posts_labels[\"Predicted\"] = [\n",
    "    classify(x[0] + ' ' + (x[1] if isinstance(x[1], str) else '')) \n",
    "  for x in cmv_posts_labels[['Title', 'text']].values]"
   ]
  },
  {
   "cell_type": "code",
   "execution_count": 57,
   "metadata": {},
   "outputs": [
    {
     "name": "stdout",
     "output_type": "stream",
     "text": [
      "              precision    recall  f1-score   support\n",
      "\n",
      "       False       0.71      0.66      0.69       231\n",
      "        True       0.73      0.77      0.75       269\n",
      "\n",
      "    accuracy                           0.72       500\n",
      "   macro avg       0.72      0.72      0.72       500\n",
      "weighted avg       0.72      0.72      0.72       500\n",
      "\n"
     ]
    }
   ],
   "source": [
    "print(sklearn.metrics.classification_report(\n",
    "    cmv_posts_labels[\"Sociopolitical\"].values,\n",
    "    cmv_posts_labels[\"Predicted\"].values\n",
    "))"
   ]
  },
  {
   "cell_type": "code",
   "execution_count": 80,
   "metadata": {},
   "outputs": [],
   "source": [
    "cmv_posts_labels[\"Predicted_only_title\"] = [\n",
    "    classify(x[0])\n",
    "  for x in cmv_posts_labels[['Title', 'text']].values]"
   ]
  },
  {
   "cell_type": "markdown",
   "metadata": {},
   "source": [
    "#### Results considering only title"
   ]
  },
  {
   "cell_type": "code",
   "execution_count": 82,
   "metadata": {},
   "outputs": [
    {
     "name": "stdout",
     "output_type": "stream",
     "text": [
      "              precision    recall  f1-score   support\n",
      "\n",
      "       False       0.69      0.68      0.68       231\n",
      "        True       0.73      0.73      0.73       269\n",
      "\n",
      "    accuracy                           0.71       500\n",
      "   macro avg       0.71      0.71      0.71       500\n",
      "weighted avg       0.71      0.71      0.71       500\n",
      "\n"
     ]
    }
   ],
   "source": [
    "print(sklearn.metrics.classification_report(\n",
    "    cmv_posts_labels[\"Sociopolitical\"].values,\n",
    "    cmv_posts_labels[\"Predicted_only_title\"].values\n",
    "))"
   ]
  },
  {
   "cell_type": "markdown",
   "metadata": {},
   "source": [
    "### Let's consider only posts where text is still available"
   ]
  },
  {
   "cell_type": "code",
   "execution_count": 58,
   "metadata": {},
   "outputs": [],
   "source": [
    "cmv_posts_labels[\"Predicted_only_text\"] = [\n",
    "    classify(x[1]) if isinstance(x[1], str) and x[1] not in ('[removed]', '[deleted]')\n",
    "    else np.nan\n",
    "  for x in cmv_posts_labels[['Title', 'text']].values]"
   ]
  },
  {
   "cell_type": "code",
   "execution_count": 62,
   "metadata": {},
   "outputs": [],
   "source": [
    "valid = ~cmv_posts_labels[\"Predicted_only_text\"].isna()"
   ]
  },
  {
   "cell_type": "code",
   "execution_count": 83,
   "metadata": {},
   "outputs": [
    {
     "data": {
      "text/plain": [
       "(0.412, Counter({True: 206, False: 294}))"
      ]
     },
     "execution_count": 83,
     "metadata": {},
     "output_type": "execute_result"
    }
   ],
   "source": [
    "np.mean(valid), Counter(valid.values)"
   ]
  },
  {
   "cell_type": "code",
   "execution_count": 84,
   "metadata": {},
   "outputs": [
    {
     "data": {
      "text/plain": [
       "Counter({True: 269, False: 231})"
      ]
     },
     "execution_count": 84,
     "metadata": {},
     "output_type": "execute_result"
    }
   ],
   "source": [
    "Counter(cmv_posts_labels[\"Sociopolitical\"].values)"
   ]
  },
  {
   "cell_type": "code",
   "execution_count": 85,
   "metadata": {},
   "outputs": [
    {
     "data": {
      "text/plain": [
       "Counter({True: 120, False: 86})"
      ]
     },
     "execution_count": 85,
     "metadata": {},
     "output_type": "execute_result"
    }
   ],
   "source": [
    "Counter(cmv_posts_labels[valid][\"Sociopolitical\"].values)"
   ]
  },
  {
   "cell_type": "markdown",
   "metadata": {},
   "source": [
    "#### Results considering title and text only on posts where text is available"
   ]
  },
  {
   "cell_type": "code",
   "execution_count": 71,
   "metadata": {},
   "outputs": [
    {
     "name": "stdout",
     "output_type": "stream",
     "text": [
      "              precision    recall  f1-score   support\n",
      "\n",
      "       False       0.79      0.60      0.68        86\n",
      "        True       0.76      0.88      0.82       120\n",
      "\n",
      "    accuracy                           0.77       206\n",
      "   macro avg       0.77      0.74      0.75       206\n",
      "weighted avg       0.77      0.77      0.76       206\n",
      "\n"
     ]
    }
   ],
   "source": [
    "print(sklearn.metrics.classification_report(\n",
    "    cmv_posts_labels[valid][\"Sociopolitical\"].values,\n",
    "    cmv_posts_labels[valid][\"Predicted\"].values\n",
    "))"
   ]
  },
  {
   "cell_type": "markdown",
   "metadata": {},
   "source": [
    "#### Results considering only text, only on posts where text is available"
   ]
  },
  {
   "cell_type": "code",
   "execution_count": 79,
   "metadata": {},
   "outputs": [
    {
     "name": "stdout",
     "output_type": "stream",
     "text": [
      "              precision    recall  f1-score   support\n",
      "\n",
      "       False       0.75      0.64      0.69        86\n",
      "        True       0.77      0.85      0.81       120\n",
      "\n",
      "    accuracy                           0.76       206\n",
      "   macro avg       0.76      0.74      0.75       206\n",
      "weighted avg       0.76      0.76      0.76       206\n",
      "\n"
     ]
    }
   ],
   "source": [
    "print(sklearn.metrics.classification_report(\n",
    "    cmv_posts_labels[valid][\"Sociopolitical\"].values,\n",
    "    np.array(cmv_posts_labels[valid][\"Predicted_only_text\"].values, dtype=np.float)\n",
    "))"
   ]
  },
  {
   "cell_type": "markdown",
   "metadata": {},
   "source": [
    "#### Results considering only title, only on posts where text is available"
   ]
  },
  {
   "cell_type": "code",
   "execution_count": 81,
   "metadata": {
    "scrolled": true
   },
   "outputs": [
    {
     "name": "stdout",
     "output_type": "stream",
     "text": [
      "              precision    recall  f1-score   support\n",
      "\n",
      "       False       0.70      0.70      0.70        86\n",
      "        True       0.78      0.78      0.78       120\n",
      "\n",
      "    accuracy                           0.75       206\n",
      "   macro avg       0.74      0.74      0.74       206\n",
      "weighted avg       0.75      0.75      0.75       206\n",
      "\n"
     ]
    }
   ],
   "source": [
    "print(sklearn.metrics.classification_report(\n",
    "    cmv_posts_labels[valid][\"Sociopolitical\"].values,\n",
    "    cmv_posts_labels[valid][\"Predicted_only_title\"].values\n",
    "))"
   ]
  },
  {
   "cell_type": "markdown",
   "metadata": {},
   "source": [
    "# Show most important features"
   ]
  },
  {
   "cell_type": "code",
   "execution_count": 32,
   "metadata": {},
   "outputs": [],
   "source": [
    "import heapq"
   ]
  },
  {
   "cell_type": "code",
   "execution_count": 33,
   "metadata": {},
   "outputs": [
    {
     "data": {
      "text/plain": [
       "['trp',\n",
       " 'smv',\n",
       " 'peterson',\n",
       " 'buddhism',\n",
       " 'anarchist',\n",
       " 'red pill',\n",
       " 'libertarian',\n",
       " 'askhistorians',\n",
       " 'bernie',\n",
       " 'anarchism',\n",
       " 'buddhist',\n",
       " 'mensrights',\n",
       " 'conspiracy',\n",
       " 'capitalism',\n",
       " 'philosophy',\n",
       " 'socialism',\n",
       " 'historian',\n",
       " 'ukpolitics',\n",
       " 'feminist',\n",
       " 'skeptic',\n",
       " 'capitalist',\n",
       " 'comrade',\n",
       " 'geopolitics',\n",
       " 'military',\n",
       " 'shit test',\n",
       " 'the_donald',\n",
       " 'christianity',\n",
       " 'philosopher',\n",
       " 'buddha',\n",
       " 'leftist',\n",
       " 'christian',\n",
       " 'philosophical',\n",
       " 'socialist',\n",
       " 'feminism',\n",
       " 'live stream',\n",
       " 'atheist',\n",
       " 'lesson learn',\n",
       " 'dharma',\n",
       " 'bible',\n",
       " 'leo',\n",
       " 'firearm',\n",
       " 'blue pill',\n",
       " 'man right',\n",
       " 'ltr',\n",
       " 'trump',\n",
       " 'prayer',\n",
       " 'pray',\n",
       " 'kryptocal',\n",
       " 'dhamma',\n",
       " 'maga']"
      ]
     },
     "execution_count": 33,
     "metadata": {},
     "output_type": "execute_result"
    }
   ],
   "source": [
    "heapq.nlargest(50, vectorizer.vocabulary_.keys(), \n",
    "               key=lambda s: clf.coef_[0, vectorizer.vocabulary_[s]])"
   ]
  },
  {
   "cell_type": "code",
   "execution_count": 34,
   "metadata": {},
   "outputs": [
    {
     "data": {
      "text/plain": [
       "['nmom',\n",
       " 'sort new',\n",
       " 'lore',\n",
       " 'pcpartpicker',\n",
       " 'steamcommunity',\n",
       " 'steamcommunity com',\n",
       " 'keto',\n",
       " 'spawn',\n",
       " 'gb',\n",
       " 'tl dr',\n",
       " 'jesus christ',\n",
       " 'metjm',\n",
       " 'dm',\n",
       " 'ira',\n",
       " 'gameplay',\n",
       " 'nofap',\n",
       " 'player',\n",
       " 'ld',\n",
       " 'cpu',\n",
       " 'pmo',\n",
       " 'dh',\n",
       " 'spec',\n",
       " 'year old male',\n",
       " 'fantasyfootball',\n",
       " 'pvp',\n",
       " 'startup',\n",
       " 'mg',\n",
       " 'legendary',\n",
       " 'pokemon',\n",
       " 'mormon',\n",
       " 'def',\n",
       " 'fap',\n",
       " 'period time',\n",
       " 'vanilla',\n",
       " 'mage',\n",
       " 'dragon',\n",
       " 'dev',\n",
       " 'pc',\n",
       " 'game',\n",
       " 'spoiler',\n",
       " 'upgrade',\n",
       " 'fapping',\n",
       " 'genre',\n",
       " 'tutorial',\n",
       " 'match',\n",
       " 'vendor',\n",
       " 'arc',\n",
       " 'stats',\n",
       " 'hello reddit',\n",
       " 'vegan']"
      ]
     },
     "execution_count": 34,
     "metadata": {},
     "output_type": "execute_result"
    }
   ],
   "source": [
    "heapq.nlargest(50, vectorizer.vocabulary_.keys(), \n",
    "               key=lambda s: -clf.coef_[0, vectorizer.vocabulary_[s]])"
   ]
  },
  {
   "cell_type": "code",
   "execution_count": 35,
   "metadata": {},
   "outputs": [],
   "source": [
    "with open('../data/vocabulary-classifier.pickle', 'wb') as f:\n",
    "    pickle.dump((vectorizer.vocabulary_, vectorizer.idf_, clf), f)"
   ]
  }
 ],
 "metadata": {
  "kernelspec": {
   "display_name": "Python 3",
   "language": "python",
   "name": "python3"
  },
  "language_info": {
   "codemirror_mode": {
    "name": "ipython",
    "version": 3
   },
   "file_extension": ".py",
   "mimetype": "text/x-python",
   "name": "python",
   "nbconvert_exporter": "python",
   "pygments_lexer": "ipython3",
   "version": "3.7.6"
  }
 },
 "nbformat": 4,
 "nbformat_minor": 4
}
